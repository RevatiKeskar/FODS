{
 "cells": [
  {
   "cell_type": "markdown",
   "id": "78bbf2c6-6884-4986-8234-413326c88f49",
   "metadata": {},
   "source": [
    "READING TEXT DATA"
   ]
  },
  {
   "cell_type": "code",
   "execution_count": null,
   "id": "46f92622-7ff7-41e8-bb64-5ca9019071b5",
   "metadata": {},
   "outputs": [],
   "source": [
    "# Reading from a .txt file\n",
    "with open('C:/Users/keska/OneDrive/Desktop/fods/test.txt', 'r') as file:\n",
    "    data = file.read()\n",
    "print(data)"
   ]
  },
  {
   "cell_type": "markdown",
   "id": "6edf8830-d644-4998-bbe0-190cd0b2c8cc",
   "metadata": {},
   "source": [
    "READING CSV DATA"
   ]
  },
  {
   "cell_type": "code",
   "execution_count": 4,
   "id": "e2d5d58d-a685-436e-b088-85b6fcce00e8",
   "metadata": {},
   "outputs": [
    {
     "name": "stdout",
     "output_type": "stream",
     "text": [
      "   Id       EmployeeName                                        JobTitle  \\\n",
      "0   1     NATHANIEL FORD  GENERAL MANAGER-METROPOLITAN TRANSIT AUTHORITY   \n",
      "1   2       GARY JIMENEZ                 CAPTAIN III (POLICE DEPARTMENT)   \n",
      "2   3     ALBERT PARDINI                 CAPTAIN III (POLICE DEPARTMENT)   \n",
      "3   4  CHRISTOPHER CHONG            WIRE ROPE CABLE MAINTENANCE MECHANIC   \n",
      "4   5    PATRICK GARDNER    DEPUTY CHIEF OF DEPARTMENT,(FIRE DEPARTMENT)   \n",
      "\n",
      "     BasePay  OvertimePay   OtherPay  Benefits   TotalPay  TotalPayBenefits  \\\n",
      "0  167411.18         0.00  400184.25       NaN  567595.43         567595.43   \n",
      "1  155966.02    245131.88  137811.38       NaN  538909.28         538909.28   \n",
      "2  212739.13    106088.18   16452.60       NaN  335279.91         335279.91   \n",
      "3   77916.00     56120.71  198306.90       NaN  332343.61         332343.61   \n",
      "4  134401.60      9737.00  182234.59       NaN  326373.19         326373.19   \n",
      "\n",
      "   Year  Notes         Agency  Status  \n",
      "0  2011    NaN  San Francisco     NaN  \n",
      "1  2011    NaN  San Francisco     NaN  \n",
      "2  2011    NaN  San Francisco     NaN  \n",
      "3  2011    NaN  San Francisco     NaN  \n",
      "4  2011    NaN  San Francisco     NaN  \n"
     ]
    }
   ],
   "source": [
    "import pandas as pd\n",
    "\n",
    "# Reading a .csv file from disk\n",
    "csv_data = pd.read_csv('C:/Users/keska/OneDrive/Desktop/fods/Salaries.csv')\n",
    "print(csv_data.head())  # View the first few rows\n"
   ]
  },
  {
   "cell_type": "markdown",
   "id": "cb5472b8-5ebe-4776-962b-bd34f413200f",
   "metadata": {},
   "source": [
    "READING XML DATA"
   ]
  },
  {
   "cell_type": "code",
   "execution_count": 7,
   "id": "c3294112-d9a8-4637-a649-e24e4bf268bc",
   "metadata": {},
   "outputs": [
    {
     "name": "stdout",
     "output_type": "stream",
     "text": [
      "requestBlacklist {}\n",
      "dataset {'type': 'EDDTableFromNcFiles', 'datasetID': 'test_2788_304d_47c8', 'active': 'true'}\n"
     ]
    }
   ],
   "source": [
    "import xml.etree.ElementTree as ET\n",
    "\n",
    "# Parse the XML data from a file\n",
    "tree = ET.parse('C:/Users/keska/OneDrive/Desktop/fods/datasets.xml')\n",
    "root = tree.getroot()\n",
    "\n",
    "# Access specific elements (replace 'your_element' with the actual tag)\n",
    "for child in root:\n",
    "    print(child.tag, child.attrib)\n"
   ]
  },
  {
   "cell_type": "markdown",
   "id": "a7620d6e-d8cc-4740-9f95-65b61fb83bce",
   "metadata": {},
   "source": [
    "READING DATA FROM WEB"
   ]
  },
  {
   "cell_type": "code",
   "execution_count": 14,
   "id": "0fd9d0ee-1950-4ccc-8b55-5745517f39f6",
   "metadata": {},
   "outputs": [
    {
     "name": "stdout",
     "output_type": "stream",
     "text": [
      "{'userId': 1, 'id': 1, 'title': 'sunt aut facere repellat provident occaecati excepturi optio reprehenderit', 'body': 'quia et suscipit\\nsuscipit recusandae consequuntur expedita et cum\\nreprehenderit molestiae ut ut quas totam\\nnostrum rerum est autem sunt rem eveniet architecto'}\n"
     ]
    }
   ],
   "source": [
    "import requests\n",
    "\n",
    "url = 'https://jsonplaceholder.typicode.com/posts'\n",
    "\n",
    "response = requests.get(url)\n",
    "\n",
    "if response.status_code == 200:\n",
    "    data = response.json()\n",
    "    print(data[0])\n",
    "else:\n",
    "    print(\"Failed to retrieve data:\", response.status_code)\n"
   ]
  },
  {
   "cell_type": "markdown",
   "id": "18440be2-e156-41a3-8d6d-7e07a559265e",
   "metadata": {},
   "source": [
    "WRITTING TO FILE"
   ]
  },
  {
   "cell_type": "code",
   "execution_count": 16,
   "id": "e074724b-caf1-4200-be80-44dbe2ed68f8",
   "metadata": {},
   "outputs": [
    {
     "name": "stdout",
     "output_type": "stream",
     "text": [
      "Data written to C:/Users/keska/OneDrive/Desktop/fods/writeTofile.json\n"
     ]
    }
   ],
   "source": [
    "import requests\n",
    "import json\n",
    "\n",
    "url = 'https://jsonplaceholder.typicode.com/posts'\n",
    "\n",
    "response = requests.get(url)\n",
    "\n",
    "if response.status_code == 200:\n",
    "    data = response.json()\n",
    " \n",
    "    file_path = 'C:/Users/keska/OneDrive/Desktop/fods/writeTofile.json'  \n",
    "\n",
    "    with open(file_path, 'w') as json_file:\n",
    "        json.dump(data, json_file, indent=4)\n",
    "    \n",
    "    print(f\"Data written to {file_path}\")\n",
    "else:\n",
    "    print(\"Failed to retrieve data:\", response.status_code)\n"
   ]
  },
  {
   "cell_type": "code",
   "execution_count": null,
   "id": "6e6c68bc-3b34-4e75-9b85-bcd830413f41",
   "metadata": {},
   "outputs": [],
   "source": []
  },
  {
   "cell_type": "code",
   "execution_count": null,
   "id": "aadf3a60-cf55-42e7-9982-915e94f60f9e",
   "metadata": {},
   "outputs": [],
   "source": []
  },
  {
   "cell_type": "code",
   "execution_count": null,
   "id": "c3cae48d-6893-4b5b-99f3-9464c9a2482c",
   "metadata": {},
   "outputs": [],
   "source": []
  },
  {
   "cell_type": "code",
   "execution_count": null,
   "id": "d37eff14-220b-420a-aaa7-0431bc3a30e9",
   "metadata": {},
   "outputs": [],
   "source": []
  }
 ],
 "metadata": {
  "kernelspec": {
   "display_name": "Python 3 (ipykernel)",
   "language": "python",
   "name": "python3"
  },
  "language_info": {
   "codemirror_mode": {
    "name": "ipython",
    "version": 3
   },
   "file_extension": ".py",
   "mimetype": "text/x-python",
   "name": "python",
   "nbconvert_exporter": "python",
   "pygments_lexer": "ipython3",
   "version": "3.12.1"
  }
 },
 "nbformat": 4,
 "nbformat_minor": 5
}
